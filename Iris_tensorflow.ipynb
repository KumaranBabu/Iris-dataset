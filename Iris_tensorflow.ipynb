{
 "cells": [
  {
   "cell_type": "markdown",
   "metadata": {},
   "source": [
    "# Working with Iris data set"
   ]
  },
  {
   "cell_type": "code",
   "execution_count": 1,
   "metadata": {},
   "outputs": [],
   "source": [
    "#Ignore warning msgs\n",
    "import sys\n",
    "import warnings\n",
    "\n",
    "if not sys.warnoptions:\n",
    "    warnings.simplefilter(\"ignore\")"
   ]
  },
  {
   "cell_type": "markdown",
   "metadata": {},
   "source": [
    "### SECTION 1 : Load and setup data for training and testing"
   ]
  },
  {
   "cell_type": "code",
   "execution_count": 2,
   "metadata": {},
   "outputs": [],
   "source": [
    "import pandas as pd\n",
    "from sklearn.model_selection import train_test_split"
   ]
  },
  {
   "cell_type": "code",
   "execution_count": 3,
   "metadata": {},
   "outputs": [],
   "source": [
    "data = pd.read_csv('iris_shuffle.csv')\n",
    "\n",
    "#Split train & test of 20%\n",
    "iris_train, iris_test = train_test_split(data, test_size=0.2)\n",
    "\n",
    "#Storing to individual csv files\n",
    "iris_train.to_csv('iris_train.csv', index = False)\n",
    "iris_test.to_csv('iris_test.csv', index = False)"
   ]
  },
  {
   "cell_type": "markdown",
   "metadata": {},
   "source": [
    "#### Preparing train data set"
   ]
  },
  {
   "cell_type": "code",
   "execution_count": 4,
   "metadata": {},
   "outputs": [],
   "source": [
    "datatrain = pd.read_csv('iris_train.csv')\n",
    "#change string value to numeric\n",
    "species_numeric = {'setosa': 0,'versicolor':1,'virginica':2}\n",
    "datatrain.species = [species_numeric[item] for item in datatrain.species] \n",
    "#datatrain.head()\n",
    "#change dataframe to array\n",
    "datatrain_array = datatrain.as_matrix()\n",
    "\n",
    "#split x and y (feature and target)\n",
    "xtrain = datatrain_array[:,:-1]\n",
    "ytrain = datatrain_array[:,-1].astype(int)\n",
    "\n",
    "#print data summary\n",
    "#len(xtrain), len(ytrain)"
   ]
  },
  {
   "cell_type": "markdown",
   "metadata": {},
   "source": [
    "#### Preparing test data set"
   ]
  },
  {
   "cell_type": "code",
   "execution_count": 5,
   "metadata": {},
   "outputs": [],
   "source": [
    "#load data test\n",
    "datatest = pd.read_csv('iris_test.csv')\n",
    "\n",
    "#change string value to numeric\n",
    "species_numeric = {'setosa': 0,'versicolor':1,'virginica':2}\n",
    "datatest.species = [species_numeric[item] for item in datatest.species] \n",
    "datatest.head()\n",
    "\n",
    "#change dataframe to array\n",
    "datatest_array = datatest.as_matrix()\n",
    "\n",
    "#split x and y (feature and target)\n",
    "xtest = datatest_array[:,:-1]\n",
    "ytest = datatest_array[:,-1].astype(int)\n",
    "\n",
    "#print data\n",
    "#len(xtest), len(ytest)\n",
    "#xtrain.shape, ytrain.shape, xtest.shape, ytest.shape"
   ]
  },
  {
   "cell_type": "markdown",
   "metadata": {},
   "source": [
    "### SECTION 2 :Tensorflow configuration"
   ]
  },
  {
   "cell_type": "code",
   "execution_count": 6,
   "metadata": {},
   "outputs": [],
   "source": [
    "import os\n",
    "import tensorflow as tf\n",
    "\n",
    "os.environ['TF_CPP_MIN_LOG_LEVEL'] = '3' # minimzing logging\n",
    "cwd = os.path.abspath(os.path.dirname('iris')) # path for saving model\n",
    "saver_path = os.path.abspath(os.path.join(cwd, 'models/model_sess.ckpt'))\n",
    "tf.set_random_seed(1103) # avoiding different result of random\n",
    "\n",
    "# tensorflow model\n",
    "input_data = tf.placeholder(tf.float32, [None, 4], name=\"input_data\")\n",
    "label = tf.placeholder(tf.float32, [None], name =\"label\")\n",
    "onehot_label = tf.one_hot(tf.cast(label, tf.int32), 3, name=\"onehot_label\")\n",
    "hidden = tf.layers.dense(input_data, 16, tf.nn.relu, name=\"hidden\")\n",
    "output = tf.layers.dense(hidden, 3, tf.nn.relu, name=\"output\")\n",
    "soft_output = tf.nn.softmax(output, name=\"soft_output\")\n",
    "\n",
    "init = tf.global_variables_initializer()\n",
    "saver = tf.train.Saver()\n",
    "\n",
    "# optimization\n",
    "loss = -tf.reduce_sum(onehot_label * tf.log(soft_output))\n",
    "optimizer = tf.train.GradientDescentOptimizer(0.0001)\n",
    "is_correct = tf.equal(tf.argmax(soft_output,1), tf.argmax(onehot_label,1))\n",
    "accuracy = tf.reduce_mean(tf.cast(is_correct, tf.float32))\n",
    "train_step = optimizer.minimize(loss)"
   ]
  },
  {
   "cell_type": "markdown",
   "metadata": {},
   "source": [
    "#### Train the model "
   ]
  },
  {
   "cell_type": "code",
   "execution_count": 7,
   "metadata": {},
   "outputs": [
    {
     "name": "stdout",
     "output_type": "stream",
     "text": [
      "0 / 1000 - Loss: 135.14941\n",
      "100 / 1000 - Loss: 67.56989\n",
      "200 / 1000 - Loss: 54.127083\n",
      "300 / 1000 - Loss: 45.768196\n",
      "400 / 1000 - Loss: 40.008575\n",
      "500 / 1000 - Loss: 35.335228\n",
      "600 / 1000 - Loss: 31.452106\n",
      "700 / 1000 - Loss: 28.242573\n",
      "800 / 1000 - Loss: 25.609913\n",
      "900 / 1000 - Loss: 23.4587\n",
      "Train accuracy 0.96666664\n"
     ]
    }
   ],
   "source": [
    "with tf.Session() as sess:\n",
    "    sess.run(init)\n",
    "    \n",
    "    # start training\n",
    "    for e in range(1000):\n",
    "        if(e%100==0):\n",
    "            print(e,\"/ 1000 - Loss:\", sess.run(loss, feed_dict={input_data:xtrain, label:ytrain}))\n",
    "        sess.run(train_step, feed_dict={input_data:xtrain, label:ytrain})\n",
    "    \n",
    "    # save model\n",
    "    saver.save(sess, saver_path)\n",
    "    print(\"Train accuracy\",sess.run(accuracy, feed_dict={input_data:xtrain, label:ytrain}))"
   ]
  },
  {
   "cell_type": "markdown",
   "metadata": {},
   "source": [
    "#### Test the model"
   ]
  },
  {
   "cell_type": "code",
   "execution_count": 8,
   "metadata": {},
   "outputs": [
    {
     "name": "stdout",
     "output_type": "stream",
     "text": [
      "INFO:tensorflow:Restoring parameters from /home/reva/Documents/machine_leaning_cs231/iris/models/model_sess.ckpt\n",
      "Test accuracy 1.0\n"
     ]
    }
   ],
   "source": [
    "with tf.Session() as sess:\n",
    "    saver.restore(sess, saver_path)\n",
    "    sess.run(accuracy, feed_dict={input_data:xtest, label:ytest})\n",
    "    print(\"Test accuracy\",sess.run(accuracy, feed_dict={input_data:xtest, label:ytest}))"
   ]
  },
  {
   "cell_type": "markdown",
   "metadata": {},
   "source": [
    "#### Print all available tensors in graph"
   ]
  },
  {
   "cell_type": "code",
   "execution_count": 9,
   "metadata": {},
   "outputs": [
    {
     "name": "stdout",
     "output_type": "stream",
     "text": [
      "INFO:tensorflow:Restoring parameters from /home/reva/Documents/machine_leaning_cs231/iris/models/model_sess.ckpt\n",
      "hidden/bias (DT_FLOAT) [16]\n",
      "hidden/kernel (DT_FLOAT) [4,16]\n",
      "output/bias (DT_FLOAT) [3]\n",
      "output/kernel (DT_FLOAT) [16,3]\n",
      "\n"
     ]
    }
   ],
   "source": [
    "from tensorflow.python.tools.inspect_checkpoint import print_tensors_in_checkpoint_file\n",
    "\n",
    "with tf.Session() as sess:\n",
    "    saver = tf.train.import_meta_graph(\"models/model_sess.ckpt.meta\")\n",
    "    saver.restore(sess, saver_path)\n",
    "    print_tensors_in_checkpoint_file(file_name=\"models/model_sess.ckpt\", tensor_name='', all_tensors=False)"
   ]
  },
  {
   "cell_type": "markdown",
   "metadata": {},
   "source": [
    "#### Print all operations in graph"
   ]
  },
  {
   "cell_type": "code",
   "execution_count": 10,
   "metadata": {},
   "outputs": [
    {
     "name": "stdout",
     "output_type": "stream",
     "text": [
      "\n",
      "input_data\n",
      "label\n",
      "Cast\n",
      "onehot_label/on_value\n",
      "onehot_label/off_value\n",
      "onehot_label/depth\n",
      "onehot_label\n",
      "hidden/kernel/Initializer/random_uniform/shape\n",
      "hidden/kernel/Initializer/random_uniform/min\n",
      "hidden/kernel/Initializer/random_uniform/max\n",
      "hidden/kernel/Initializer/random_uniform/RandomUniform\n",
      "hidden/kernel/Initializer/random_uniform/sub\n",
      "hidden/kernel/Initializer/random_uniform/mul\n",
      "hidden/kernel/Initializer/random_uniform\n",
      "hidden/kernel\n",
      "hidden/kernel/Assign\n",
      "hidden/kernel/read\n",
      "hidden/bias/Initializer/zeros\n",
      "hidden/bias\n",
      "hidden/bias/Assign\n",
      "hidden/bias/read\n",
      "hidden/MatMul\n",
      "hidden/BiasAdd\n",
      "hidden/Relu\n",
      "output/kernel/Initializer/random_uniform/shape\n",
      "output/kernel/Initializer/random_uniform/min\n",
      "output/kernel/Initializer/random_uniform/max\n",
      "output/kernel/Initializer/random_uniform/RandomUniform\n",
      "output/kernel/Initializer/random_uniform/sub\n",
      "output/kernel/Initializer/random_uniform/mul\n",
      "output/kernel/Initializer/random_uniform\n",
      "output/kernel\n",
      "output/kernel/Assign\n",
      "output/kernel/read\n",
      "output/bias/Initializer/zeros\n",
      "output/bias\n",
      "output/bias/Assign\n",
      "output/bias/read\n",
      "output/MatMul\n",
      "output/BiasAdd\n",
      "output/Relu\n",
      "soft_output\n",
      "init\n",
      "save/Const\n",
      "save/SaveV2/tensor_names\n",
      "save/SaveV2/shape_and_slices\n",
      "save/SaveV2\n",
      "save/control_dependency\n",
      "save/RestoreV2/tensor_names\n",
      "save/RestoreV2/shape_and_slices\n",
      "save/RestoreV2\n",
      "save/Assign\n",
      "save/Assign_1\n",
      "save/Assign_2\n",
      "save/Assign_3\n",
      "save/restore_all\n",
      "Log\n",
      "mul\n",
      "Const\n",
      "Sum\n",
      "Neg\n",
      "ArgMax/dimension\n",
      "ArgMax\n",
      "ArgMax_1/dimension\n",
      "ArgMax_1\n",
      "Equal\n",
      "Cast_1\n",
      "Const_1\n",
      "Mean\n",
      "gradients/Shape\n",
      "gradients/grad_ys_0\n",
      "gradients/Fill\n",
      "gradients/Neg_grad/Neg\n",
      "gradients/Sum_grad/Reshape/shape\n",
      "gradients/Sum_grad/Reshape\n",
      "gradients/Sum_grad/Shape\n",
      "gradients/Sum_grad/Tile\n",
      "gradients/mul_grad/Shape\n",
      "gradients/mul_grad/Shape_1\n",
      "gradients/mul_grad/BroadcastGradientArgs\n",
      "gradients/mul_grad/Mul\n",
      "gradients/mul_grad/Sum\n",
      "gradients/mul_grad/Reshape\n",
      "gradients/mul_grad/Mul_1\n",
      "gradients/mul_grad/Sum_1\n",
      "gradients/mul_grad/Reshape_1\n",
      "gradients/mul_grad/tuple/group_deps\n",
      "gradients/mul_grad/tuple/control_dependency\n",
      "gradients/mul_grad/tuple/control_dependency_1\n",
      "gradients/Log_grad/Reciprocal\n",
      "gradients/Log_grad/mul\n",
      "gradients/soft_output_grad/mul\n",
      "gradients/soft_output_grad/Sum/reduction_indices\n",
      "gradients/soft_output_grad/Sum\n",
      "gradients/soft_output_grad/sub\n",
      "gradients/soft_output_grad/mul_1\n",
      "gradients/output/Relu_grad/ReluGrad\n",
      "gradients/output/BiasAdd_grad/BiasAddGrad\n",
      "gradients/output/BiasAdd_grad/tuple/group_deps\n",
      "gradients/output/BiasAdd_grad/tuple/control_dependency\n",
      "gradients/output/BiasAdd_grad/tuple/control_dependency_1\n",
      "gradients/output/MatMul_grad/MatMul\n",
      "gradients/output/MatMul_grad/MatMul_1\n",
      "gradients/output/MatMul_grad/tuple/group_deps\n",
      "gradients/output/MatMul_grad/tuple/control_dependency\n",
      "gradients/output/MatMul_grad/tuple/control_dependency_1\n",
      "gradients/hidden/Relu_grad/ReluGrad\n",
      "gradients/hidden/BiasAdd_grad/BiasAddGrad\n",
      "gradients/hidden/BiasAdd_grad/tuple/group_deps\n",
      "gradients/hidden/BiasAdd_grad/tuple/control_dependency\n",
      "gradients/hidden/BiasAdd_grad/tuple/control_dependency_1\n",
      "gradients/hidden/MatMul_grad/MatMul\n",
      "gradients/hidden/MatMul_grad/MatMul_1\n",
      "gradients/hidden/MatMul_grad/tuple/group_deps\n",
      "gradients/hidden/MatMul_grad/tuple/control_dependency\n",
      "gradients/hidden/MatMul_grad/tuple/control_dependency_1\n",
      "GradientDescent/learning_rate\n",
      "GradientDescent/update_hidden/kernel/ApplyGradientDescent\n",
      "GradientDescent/update_hidden/bias/ApplyGradientDescent\n",
      "GradientDescent/update_output/kernel/ApplyGradientDescent\n",
      "GradientDescent/update_output/bias/ApplyGradientDescent\n",
      "GradientDescent\n",
      "input_data_1\n",
      "label_1\n",
      "Cast_2\n",
      "onehot_label/on_value_1\n",
      "onehot_label/off_value_1\n",
      "onehot_label/depth_1\n",
      "onehot_label_1\n",
      "hidden/kernel/Initializer/random_uniform/shape_1\n",
      "hidden/kernel/Initializer/random_uniform/min_1\n",
      "hidden/kernel/Initializer/random_uniform/max_1\n",
      "hidden/kernel/Initializer/random_uniform/RandomUniform_1\n",
      "hidden/kernel/Initializer/random_uniform/sub_1\n",
      "hidden/kernel/Initializer/random_uniform/mul_1\n",
      "hidden/kernel/Initializer/random_uniform_1\n",
      "hidden/kernel_1\n",
      "hidden/kernel/Assign_1\n",
      "hidden/kernel/read_1\n",
      "hidden/bias/Initializer/zeros_1\n",
      "hidden/bias_1\n",
      "hidden/bias/Assign_1\n",
      "hidden/bias/read_1\n",
      "hidden/MatMul_1\n",
      "hidden/BiasAdd_1\n",
      "hidden/Relu_1\n",
      "output/kernel/Initializer/random_uniform/shape_1\n",
      "output/kernel/Initializer/random_uniform/min_1\n",
      "output/kernel/Initializer/random_uniform/max_1\n",
      "output/kernel/Initializer/random_uniform/RandomUniform_1\n",
      "output/kernel/Initializer/random_uniform/sub_1\n",
      "output/kernel/Initializer/random_uniform/mul_1\n",
      "output/kernel/Initializer/random_uniform_1\n",
      "output/kernel_1\n",
      "output/kernel/Assign_1\n",
      "output/kernel/read_1\n",
      "output/bias/Initializer/zeros_1\n",
      "output/bias_1\n",
      "output/bias/Assign_1\n",
      "output/bias/read_1\n",
      "output/MatMul_1\n",
      "output/BiasAdd_1\n",
      "output/Relu_1\n",
      "soft_output_1\n",
      "init_1\n",
      "save/Const_1\n",
      "save/SaveV2/tensor_names_1\n",
      "save/SaveV2/shape_and_slices_1\n",
      "save/SaveV2_1\n",
      "save/control_dependency_1\n",
      "save/RestoreV2/tensor_names_1\n",
      "save/RestoreV2/shape_and_slices_1\n",
      "save/RestoreV2_1\n",
      "save/Assign_4\n",
      "save/Assign_1_1\n",
      "save/Assign_2_1\n",
      "save/Assign_3_1\n",
      "save/restore_all_1\n",
      "Log_1\n",
      "mul_1\n",
      "Const_2\n",
      "Sum_1\n",
      "Neg_1\n",
      "ArgMax/dimension_1\n",
      "ArgMax_2\n",
      "ArgMax_1/dimension_1\n",
      "ArgMax_1_1\n",
      "Equal_1\n",
      "Cast_1_1\n",
      "Const_1_1\n",
      "Mean_1\n",
      "gradients/Shape_1\n",
      "gradients/grad_ys_0_1\n",
      "gradients/Fill_1\n",
      "gradients/Neg_grad/Neg_1\n",
      "gradients/Sum_grad/Reshape/shape_1\n",
      "gradients/Sum_grad/Reshape_1\n",
      "gradients/Sum_grad/Shape_1\n",
      "gradients/Sum_grad/Tile_1\n",
      "gradients/mul_grad/Shape_2\n",
      "gradients/mul_grad/Shape_1_1\n",
      "gradients/mul_grad/BroadcastGradientArgs_1\n",
      "gradients/mul_grad/Mul_2\n",
      "gradients/mul_grad/Sum_2\n",
      "gradients/mul_grad/Reshape_2\n",
      "gradients/mul_grad/Mul_1_1\n",
      "gradients/mul_grad/Sum_1_1\n",
      "gradients/mul_grad/Reshape_1_1\n",
      "gradients/mul_grad/tuple/group_deps_1\n",
      "gradients/mul_grad/tuple/control_dependency_2\n",
      "gradients/mul_grad/tuple/control_dependency_1_1\n",
      "gradients/Log_grad/Reciprocal_1\n",
      "gradients/Log_grad/mul_1\n",
      "gradients/soft_output_grad/mul_2\n",
      "gradients/soft_output_grad/Sum/reduction_indices_1\n",
      "gradients/soft_output_grad/Sum_1\n",
      "gradients/soft_output_grad/sub_1\n",
      "gradients/soft_output_grad/mul_1_1\n",
      "gradients/output/Relu_grad/ReluGrad_1\n",
      "gradients/output/BiasAdd_grad/BiasAddGrad_1\n",
      "gradients/output/BiasAdd_grad/tuple/group_deps_1\n",
      "gradients/output/BiasAdd_grad/tuple/control_dependency_2\n",
      "gradients/output/BiasAdd_grad/tuple/control_dependency_1_1\n",
      "gradients/output/MatMul_grad/MatMul_2\n",
      "gradients/output/MatMul_grad/MatMul_1_1\n",
      "gradients/output/MatMul_grad/tuple/group_deps_1\n",
      "gradients/output/MatMul_grad/tuple/control_dependency_2\n",
      "gradients/output/MatMul_grad/tuple/control_dependency_1_1\n",
      "gradients/hidden/Relu_grad/ReluGrad_1\n",
      "gradients/hidden/BiasAdd_grad/BiasAddGrad_1\n",
      "gradients/hidden/BiasAdd_grad/tuple/group_deps_1\n",
      "gradients/hidden/BiasAdd_grad/tuple/control_dependency_2\n",
      "gradients/hidden/BiasAdd_grad/tuple/control_dependency_1_1\n",
      "gradients/hidden/MatMul_grad/MatMul_2\n",
      "gradients/hidden/MatMul_grad/MatMul_1_1\n",
      "gradients/hidden/MatMul_grad/tuple/group_deps_1\n",
      "gradients/hidden/MatMul_grad/tuple/control_dependency_2\n",
      "gradients/hidden/MatMul_grad/tuple/control_dependency_1_1\n",
      "GradientDescent/learning_rate_1\n",
      "GradientDescent/update_hidden/kernel/ApplyGradientDescent_1\n",
      "GradientDescent/update_hidden/bias/ApplyGradientDescent_1\n",
      "GradientDescent/update_output/kernel/ApplyGradientDescent_1\n",
      "GradientDescent/update_output/bias/ApplyGradientDescent_1\n",
      "GradientDescent_1\n"
     ]
    }
   ],
   "source": [
    "    graph=tf.get_default_graph()\n",
    "    print (\"\")\n",
    "    for op in graph.get_operations():  \n",
    "        print (str(op.name))"
   ]
  },
  {
   "cell_type": "code",
   "execution_count": null,
   "metadata": {},
   "outputs": [],
   "source": []
  }
 ],
 "metadata": {
  "kernelspec": {
   "display_name": "Python 3",
   "language": "python",
   "name": "python3"
  },
  "language_info": {
   "codemirror_mode": {
    "name": "ipython",
    "version": 3
   },
   "file_extension": ".py",
   "mimetype": "text/x-python",
   "name": "python",
   "nbconvert_exporter": "python",
   "pygments_lexer": "ipython3",
   "version": "3.6.6"
  }
 },
 "nbformat": 4,
 "nbformat_minor": 2
}
